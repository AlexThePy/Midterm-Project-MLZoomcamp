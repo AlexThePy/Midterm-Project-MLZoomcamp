{
 "cells": [
  {
   "cell_type": "code",
   "execution_count": 95,
   "id": "7fde5fc7",
   "metadata": {},
   "outputs": [
    {
     "data": {
      "text/plain": [
       "407"
      ]
     },
     "execution_count": 95,
     "metadata": {},
     "output_type": "execute_result"
    }
   ],
   "source": [
    "import pandas as pd\n",
    "import numpy as np\n",
    "import seaborn as sns\n",
    "from matplotlib import pyplot as plt\n",
    "from sklearn.model_selection import train_test_split\n",
    "from sklearn.metrics import mean_squared_error\n",
    "from sklearn.linear_model import LinearRegression\n",
    "import re\n",
    "from joblib import dump\n",
    "\n",
    "# Load your dataset\n",
    "df = pd.read_csv('S:\\ML Course\\Midterm Project 1\\mobile_price.csv')\n",
    "\n",
    "# Drop the 'Unnamed: 8' column that was showing up\n",
    "if 'Unnamed: 8' in df.columns:\n",
    "    df = df.drop('Unnamed: 8', axis=1)\n",
    "\n",
    "\n",
    "    \n",
    "len(df)\n"
   ]
  },
  {
   "cell_type": "code",
   "execution_count": 96,
   "id": "53e3a42f",
   "metadata": {
    "scrolled": true
   },
   "outputs": [
    {
     "data": {
      "text/html": [
       "<div>\n",
       "<style scoped>\n",
       "    .dataframe tbody tr th:only-of-type {\n",
       "        vertical-align: middle;\n",
       "    }\n",
       "\n",
       "    .dataframe tbody tr th {\n",
       "        vertical-align: top;\n",
       "    }\n",
       "\n",
       "    .dataframe thead th {\n",
       "        text-align: right;\n",
       "    }\n",
       "</style>\n",
       "<table border=\"1\" class=\"dataframe\">\n",
       "  <thead>\n",
       "    <tr style=\"text-align: right;\">\n",
       "      <th></th>\n",
       "      <th>Brand</th>\n",
       "      <th>Model</th>\n",
       "      <th>Storage</th>\n",
       "      <th>RAM</th>\n",
       "      <th>Screen Size (inches)</th>\n",
       "      <th>Camera (MP)</th>\n",
       "      <th>Battery Capacity (mAh)</th>\n",
       "      <th>Price ($)</th>\n",
       "    </tr>\n",
       "  </thead>\n",
       "  <tbody>\n",
       "    <tr>\n",
       "      <th>0</th>\n",
       "      <td>Apple</td>\n",
       "      <td>iPhone 13 Pro</td>\n",
       "      <td>128 GB</td>\n",
       "      <td>6 GB</td>\n",
       "      <td>6.1</td>\n",
       "      <td>128</td>\n",
       "      <td>3095</td>\n",
       "      <td>999</td>\n",
       "    </tr>\n",
       "    <tr>\n",
       "      <th>1</th>\n",
       "      <td>Samsung</td>\n",
       "      <td>Galaxy S21 Ultra</td>\n",
       "      <td>256 GB</td>\n",
       "      <td>12 GB</td>\n",
       "      <td>6.8</td>\n",
       "      <td>256</td>\n",
       "      <td>5000</td>\n",
       "      <td>1199</td>\n",
       "    </tr>\n",
       "    <tr>\n",
       "      <th>2</th>\n",
       "      <td>OnePlus</td>\n",
       "      <td>9 Pro</td>\n",
       "      <td>128 GB</td>\n",
       "      <td>8 GB</td>\n",
       "      <td>6.7</td>\n",
       "      <td>128</td>\n",
       "      <td>4500</td>\n",
       "      <td>899</td>\n",
       "    </tr>\n",
       "    <tr>\n",
       "      <th>3</th>\n",
       "      <td>Xiaomi</td>\n",
       "      <td>Redmi Note 10 Pro</td>\n",
       "      <td>128 GB</td>\n",
       "      <td>6 GB</td>\n",
       "      <td>6.67</td>\n",
       "      <td>128</td>\n",
       "      <td>5020</td>\n",
       "      <td>279</td>\n",
       "    </tr>\n",
       "    <tr>\n",
       "      <th>4</th>\n",
       "      <td>Google</td>\n",
       "      <td>Pixel 6</td>\n",
       "      <td>128 GB</td>\n",
       "      <td>8 GB</td>\n",
       "      <td>6.4</td>\n",
       "      <td>128</td>\n",
       "      <td>4614</td>\n",
       "      <td>799</td>\n",
       "    </tr>\n",
       "  </tbody>\n",
       "</table>\n",
       "</div>"
      ],
      "text/plain": [
       "     Brand              Model Storage    RAM Screen Size (inches)  \\\n",
       "0    Apple      iPhone 13 Pro  128 GB   6 GB                  6.1   \n",
       "1  Samsung   Galaxy S21 Ultra  256 GB  12 GB                  6.8   \n",
       "2  OnePlus              9 Pro  128 GB   8 GB                  6.7   \n",
       "3   Xiaomi  Redmi Note 10 Pro  128 GB   6 GB                 6.67   \n",
       "4   Google            Pixel 6  128 GB   8 GB                  6.4   \n",
       "\n",
       "   Camera (MP)  Battery Capacity (mAh) Price ($)  \n",
       "0          128                    3095       999  \n",
       "1          256                    5000      1199  \n",
       "2          128                    4500       899  \n",
       "3          128                    5020       279  \n",
       "4          128                    4614       799  "
      ]
     },
     "execution_count": 96,
     "metadata": {},
     "output_type": "execute_result"
    }
   ],
   "source": [
    "df.head()"
   ]
  },
  {
   "cell_type": "code",
   "execution_count": 97,
   "id": "f5413816",
   "metadata": {},
   "outputs": [
    {
     "data": {
      "text/html": [
       "<div>\n",
       "<style scoped>\n",
       "    .dataframe tbody tr th:only-of-type {\n",
       "        vertical-align: middle;\n",
       "    }\n",
       "\n",
       "    .dataframe tbody tr th {\n",
       "        vertical-align: top;\n",
       "    }\n",
       "\n",
       "    .dataframe thead th {\n",
       "        text-align: right;\n",
       "    }\n",
       "</style>\n",
       "<table border=\"1\" class=\"dataframe\">\n",
       "  <thead>\n",
       "    <tr style=\"text-align: right;\">\n",
       "      <th></th>\n",
       "      <th>brand</th>\n",
       "      <th>model</th>\n",
       "      <th>storage</th>\n",
       "      <th>ram</th>\n",
       "      <th>screen_size_(inches)</th>\n",
       "      <th>camera_(mp)</th>\n",
       "      <th>battery_capacity_(mah)</th>\n",
       "      <th>price_($)</th>\n",
       "    </tr>\n",
       "  </thead>\n",
       "  <tbody>\n",
       "    <tr>\n",
       "      <th>0</th>\n",
       "      <td>apple</td>\n",
       "      <td>iphone_13_pro</td>\n",
       "      <td>128_gb</td>\n",
       "      <td>6_gb</td>\n",
       "      <td>6.1</td>\n",
       "      <td>128</td>\n",
       "      <td>3095</td>\n",
       "      <td>999</td>\n",
       "    </tr>\n",
       "    <tr>\n",
       "      <th>1</th>\n",
       "      <td>samsung</td>\n",
       "      <td>galaxy_s21_ultra</td>\n",
       "      <td>256_gb</td>\n",
       "      <td>12_gb</td>\n",
       "      <td>6.8</td>\n",
       "      <td>256</td>\n",
       "      <td>5000</td>\n",
       "      <td>1199</td>\n",
       "    </tr>\n",
       "    <tr>\n",
       "      <th>2</th>\n",
       "      <td>oneplus</td>\n",
       "      <td>9_pro</td>\n",
       "      <td>128_gb</td>\n",
       "      <td>8_gb</td>\n",
       "      <td>6.7</td>\n",
       "      <td>128</td>\n",
       "      <td>4500</td>\n",
       "      <td>899</td>\n",
       "    </tr>\n",
       "    <tr>\n",
       "      <th>3</th>\n",
       "      <td>xiaomi</td>\n",
       "      <td>redmi_note_10_pro</td>\n",
       "      <td>128_gb</td>\n",
       "      <td>6_gb</td>\n",
       "      <td>6.67</td>\n",
       "      <td>128</td>\n",
       "      <td>5020</td>\n",
       "      <td>279</td>\n",
       "    </tr>\n",
       "    <tr>\n",
       "      <th>4</th>\n",
       "      <td>google</td>\n",
       "      <td>pixel_6</td>\n",
       "      <td>128_gb</td>\n",
       "      <td>8_gb</td>\n",
       "      <td>6.4</td>\n",
       "      <td>128</td>\n",
       "      <td>4614</td>\n",
       "      <td>799</td>\n",
       "    </tr>\n",
       "  </tbody>\n",
       "</table>\n",
       "</div>"
      ],
      "text/plain": [
       "     brand              model storage    ram screen_size_(inches)  \\\n",
       "0    apple      iphone_13_pro  128_gb   6_gb                  6.1   \n",
       "1  samsung   galaxy_s21_ultra  256_gb  12_gb                  6.8   \n",
       "2  oneplus              9_pro  128_gb   8_gb                  6.7   \n",
       "3   xiaomi  redmi_note_10_pro  128_gb   6_gb                 6.67   \n",
       "4   google            pixel_6  128_gb   8_gb                  6.4   \n",
       "\n",
       "   camera_(mp)  battery_capacity_(mah) price_($)  \n",
       "0          128                    3095       999  \n",
       "1          256                    5000      1199  \n",
       "2          128                    4500       899  \n",
       "3          128                    5020       279  \n",
       "4          128                    4614       799  "
      ]
     },
     "execution_count": 97,
     "metadata": {},
     "output_type": "execute_result"
    }
   ],
   "source": [
    "df.columns = df.columns.str.lower().str.replace(' ', '_')\n",
    "\n",
    "string_columns = list(df.dtypes[df.dtypes == 'object'].index)\n",
    "\n",
    "for col in string_columns:\n",
    "    df[col] = df[col].str.lower().str.replace(' ', '_')\n",
    "df.head()\n"
   ]
  },
  {
   "cell_type": "code",
   "execution_count": 98,
   "id": "67838154",
   "metadata": {
    "scrolled": false
   },
   "outputs": [
    {
     "data": {
      "image/png": "[encoded data removed]",
      "text/plain": [
       "<Figure size 800x600 with 1 Axes>"
      ]
     },
     "metadata": {},
     "output_type": "display_data"
    }
   ],
   "source": [
    "# Rename column price_($) to price\n",
    "df.rename(columns={'price_($)':'price'}, inplace=True)\n",
    "\n",
    "# Convert 'price' to numeric and handle any non-numeric entries.\n",
    "df['price'] = pd.to_numeric(df['price'], errors='coerce').fillna(0)\n",
    "\n",
    "# Handle NaN values that may have been introduced by non-numeric entries.\n",
    "df['price'].fillna(df['price'].median(), inplace=True)\n",
    "\n",
    "# Now you can safely log transform the price column.\n",
    "df['log_price'] = np.log1p(df['price'])\n",
    "\n",
    "\n",
    "plt.figure(figsize=(8, 6))\n",
    "\n",
    "sns.histplot(df['price'], bins=50, color='black', alpha=1)\n",
    "plt.ylabel('Quantity')\n",
    "plt.xlabel('Price')\n",
    "plt.title('Distribution of prices')\n",
    "\n",
    "plt.show()"
   ]
  },
  {
   "cell_type": "code",
   "execution_count": 99,
   "id": "04a6d376",
   "metadata": {},
   "outputs": [
    {
     "data": {
      "text/plain": [
       "brand                     0\n",
       "model                     0\n",
       "storage                   0\n",
       "ram                       0\n",
       "screen_size_(inches)      0\n",
       "camera_(mp)               0\n",
       "battery_capacity_(mah)    0\n",
       "price                     0\n",
       "log_price                 0\n",
       "dtype: int64"
      ]
     },
     "execution_count": 99,
     "metadata": {},
     "output_type": "execute_result"
    }
   ],
   "source": [
    "df.isnull().sum()"
   ]
  },
  {
   "cell_type": "code",
   "execution_count": 106,
   "id": "486105f1",
   "metadata": {},
   "outputs": [
    {
     "data": {
      "image/png": "[encoded data removed]",
      "text/plain": [
       "<Figure size 600x400 with 1 Axes>"
      ]
     },
     "metadata": {},
     "output_type": "display_data"
    }
   ],
   "source": [
    "# Validation Framework\n",
    "np.random.seed(2)\n",
    "n = len(df)\n",
    "n_val = int(0.2 * n)\n",
    "n_test = int(0.2 * n)\n",
    "n_train = n - (n_val + n_test)\n",
    "idx = np.arange(n)\n",
    "np.random.shuffle(idx)\n",
    "\n",
    "df_shuffled = df.iloc[idx]\n",
    "df_train = df_shuffled.iloc[:n_train].copy()\n",
    "df_val = df_shuffled.iloc[n_train:n_train+n_val].copy()\n",
    "df_test = df_shuffled.iloc[n_train+n_val:].copy()\n",
    "\n",
    "y_train_orig = df_train.price.values\n",
    "y_val_orig = df_val.price.values\n",
    "y_test_orig = df_test.price.values\n",
    "\n",
    "y_train = np.log1p(y_train_orig)\n",
    "y_val = np.log1p(y_val_orig)\n",
    "y_test = np.log1p(y_test_orig)\n",
    "\n",
    "del df_train['price']\n",
    "del df_val['price']\n",
    "del df_test['price']\n",
    "\n",
    "# Linear Regression Model Training\n",
    "def train_linear_regression(X, y):\n",
    "    model = LinearRegression()\n",
    "    model.fit(X, y)\n",
    "    return model\n",
    "\n",
    "# Feature Preparation\n",
    "base = ['storage', 'screen_size_(inches)', 'camera_(mp)']  # Make sure these are the correct feature names\n",
    "\n",
    "def prepare_X(df):\n",
    "    df_num = df.copy()\n",
    "    for col in base:\n",
    "        df_num[col] = pd.to_numeric(df_num[col], errors='coerce')\n",
    "    df_num = df_num.fillna(0)\n",
    "    X = df_num[base].values\n",
    "    return X\n",
    "\n",
    "# Prepare the data\n",
    "X_train = prepare_X(df_train)\n",
    "X_val = prepare_X(df_val)\n",
    "\n",
    "# Train the model\n",
    "model = train_linear_regression(X_train, y_train)\n",
    "\n",
    "# Save the trained model\n",
    "dump(model, 'model.joblib')\n",
    "\n",
    "# Make predictions\n",
    "y_pred = model.predict(X_val)\n",
    "\n",
    "# Plot the predictions vs actual distribution\n",
    "plt.figure(figsize=(6, 4))\n",
    "sns.histplot(y_val, label='target', color='#222222', alpha=0.6, bins=40)\n",
    "sns.histplot(y_pred, label='prediction', color='#aaaaaa', alpha=0.8, bins=40)\n",
    "plt.legend()\n",
    "plt.ylabel('Frequency')\n",
    "plt.xlabel('Log(Price + 1)')\n",
    "plt.title('Predictions vs actual distribution')\n",
    "plt.show()"
   ]
  },
  {
   "cell_type": "code",
   "execution_count": 115,
   "id": "86f7dc52",
   "metadata": {
    "scrolled": true
   },
   "outputs": [
    {
     "name": "stdout",
     "output_type": "stream",
     "text": [
      " * Serving Flask app '__main__'\n",
      " * Debug mode: on\n"
     ]
    },
    {
     "name": "stderr",
     "output_type": "stream",
     "text": [
      "WARNING: This is a development server. Do not use it in a production deployment. Use a production WSGI server instead.\n",
      " * Running on http://127.0.0.1:6969\n",
      "Press CTRL+C to quit\n",
      "127.0.0.1 - - [06/Nov/2023 21:40:14] \"GET / HTTP/1.1\" 200 -\n",
      "127.0.0.1 - - [06/Nov/2023 21:40:14] \"GET /favicon.ico HTTP/1.1\" 404 -\n",
      "127.0.0.1 - - [06/Nov/2023 21:41:20] \"GET / HTTP/1.1\" 200 -\n",
      "127.0.0.1 - - [06/Nov/2023 21:46:14] \"GET / HTTP/1.1\" 200 -\n",
      "127.0.0.1 - - [06/Nov/2023 21:47:54] \"GET / HTTP/1.1\" 200 -\n"
     ]
    }
   ],
   "source": [
    "from flask import Flask, request, jsonify\n",
    "from joblib import load\n",
    "from threading import Thread\n",
    "\n",
    "app = Flask(__name__)\n",
    "\n",
    "# Load the trained model\n",
    "model = load('model.joblib')\n",
    "\n",
    "@app.route('/')\n",
    "def home():\n",
    "    return \"Welcome to the model prediction service!\"\n",
    "\n",
    "@app.route('/predict', methods=['POST'])\n",
    "def predict():\n",
    "    data = request.get_json(force=True)\n",
    "    # Preprocess the input data as required, similar to how you did in the notebook\n",
    "    # For example, if you expect a single feature called 'feature_input'\n",
    "    input_data = [data['feature_input']]\n",
    "    # Use the model to make a prediction\n",
    "    prediction = model.predict([input_data])\n",
    "    return jsonify({'prediction': prediction.tolist()})\n",
    "\n",
    "# Define the function that will run the Flask app\n",
    "def run_app():\n",
    "    # Set the threaded argument to True to handle each request in a separate thread.\n",
    "    app.run(port=6969, debug=True, use_reloader=False, threaded=True)\n",
    "\n",
    "# Run the Flask app in a separate thread to avoid blocking the notebook\n",
    "flask_thread = Thread(target=run_app)\n",
    "flask_thread.start()\n"
   ]
  },
  {
   "cell_type": "code",
   "execution_count": 116,
   "id": "50532a99",
   "metadata": {},
   "outputs": [
    {
     "name": "stdout",
     "output_type": "stream",
     "text": [
      "Note: you may need to restart the kernel to use updated packages.\n"
     ]
    }
   ],
   "source": [
    "pip freeze > requirements.txt"
   ]
  },
  {
   "cell_type": "code",
   "execution_count": 117,
   "id": "da3a85ce",
   "metadata": {},
   "outputs": [
    {
     "data": {
      "text/plain": [
       "'C:\\\\Users\\\\Detoxx'"
      ]
     },
     "execution_count": 117,
     "metadata": {},
     "output_type": "execute_result"
    }
   ],
   "source": [
    "%pwd"
   ]
  },
  {
   "cell_type": "code",
   "execution_count": null,
   "id": "37a77ef3",
   "metadata": {},
   "outputs": [],
   "source": []
  }
 ],
 "metadata": {
  "kernelspec": {
   "display_name": "Python 3 (ipykernel)",
   "language": "python",
   "name": "python3"
  },
  "language_info": {
   "codemirror_mode": {
    "name": "ipython",
    "version": 3
   },
   "file_extension": ".py",
   "mimetype": "text/x-python",
   "name": "python",
   "nbconvert_exporter": "python",
   "pygments_lexer": "ipython3",
   "version": "3.11.4"
  }
 },
 "nbformat": 4,
 "nbformat_minor": 5
}
